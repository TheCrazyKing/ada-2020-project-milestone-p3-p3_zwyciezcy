{
 "cells": [
  {
   "cell_type": "code",
   "execution_count": 60,
   "metadata": {},
   "outputs": [],
   "source": [
    "import twitter\n",
    "import pandas as pd\n",
    "from pathlib import Path\n",
    "from queue import Queue"
   ]
  },
  {
   "cell_type": "code",
   "execution_count": 61,
   "metadata": {},
   "outputs": [],
   "source": [
    "newtorks_path = Path(\"dataverse_files/EgoNetworks.txt\")\n",
    "networks_df = pd.read_csv(newtorks_path, sep=\"\\t\")"
   ]
  },
  {
   "cell_type": "code",
   "execution_count": 63,
   "metadata": {
    "scrolled": true
   },
   "outputs": [],
   "source": [
    "networks_mapping = {}\n",
    "all_ids = set()\n",
    "for _, row in networks_df.iterrows():\n",
    "    follower_id = row[\"followerID\"]\n",
    "    followee_id = row[\"followeeID\"]\n",
    "    all_ids.add(follower_id)\n",
    "    all_ids.add(followee_id)\n",
    "    if follower_id not in networks_mapping.keys():\n",
    "        networks_mapping[follower_id] = []\n",
    "    networks_mapping[follower_id].append(followee_id)"
   ]
  },
  {
   "cell_type": "code",
   "execution_count": 64,
   "metadata": {},
   "outputs": [],
   "source": [
    "api = twitter.Api(\n",
    "    consumer_key='Ip5qVTWdQOsZaBDlnhQYmPY6V',\n",
    "    consumer_secret='0lhLMssVStAY2OQRMFcxLD0kzUaSwGW12Wgf0PAaUwhdGaodQT',\n",
    "    access_token_key='1332305026669309955-dAr7LTKcpxdyOViuKqwWnxtZwy4AXt',\n",
    "    access_token_secret='5slqbf5Q6AMFZYNk1RYcvhJbWoZnYhucziB9Prg6Vf361')"
   ]
  },
  {
   "cell_type": "code",
   "execution_count": 65,
   "metadata": {},
   "outputs": [
    {
     "data": {
      "text/plain": [
       "[Status(ID=1339993708146683905, ScreenName=realDonaldTrump, Created=Fri Dec 18 17:59:30 +0000 2020, Text='https://t.co/oMa4GS9q6K'),\n",
       " Status(ID=1339971240157736960, ScreenName=realDonaldTrump, Created=Fri Dec 18 16:30:13 +0000 2020, Text='THANK YOU to the GREAT men and women of @FedEx and @UPS for driving through the storms this week to deliver million… https://t.co/9sVOIcuH8S'),\n",
       " Status(ID=1339953001847525379, ScreenName=realDonaldTrump, Created=Fri Dec 18 15:17:45 +0000 2020, Text='The Secretary of State and Governor of Georgia, both so-called “Republicans”, aren’t allowing Fulton County to go t… https://t.co/eyZ3yZ7AeV'),\n",
       " Status(ID=1339938332223139840, ScreenName=realDonaldTrump, Created=Fri Dec 18 14:19:27 +0000 2020, Text='Governor @BrianKempGA of Georgia still has not called a Special Session. So easy to do, why is he not doing it? It… https://t.co/HsPo68eQpU'),\n",
       " Status(ID=1339937549209522178, ScreenName=realDonaldTrump, Created=Fri Dec 18 14:16:21 +0000 2020, Text='Oh, they do this to me every day. When will they apologize? https://t.co/oqcroLYx5B'),\n",
       " Status(ID=1339937091707351046, ScreenName=realDonaldTrump, Created=Fri Dec 18 14:14:32 +0000 2020, Text='.@senatemajldr and Republican Senators have to get tougher, or you won’t have a Republican Party anymore. We won th… https://t.co/T6EClLu3OY'),\n",
       " Status(ID=1339931021052133380, ScreenName=realDonaldTrump, Created=Fri Dec 18 13:50:24 +0000 2020, Text='RT @BuckSexton: Again, I ask the “experts” this question in earnest: what would this graph of covid cases look like *without* mask mandates…'),\n",
       " Status(ID=1339930445308436480, ScreenName=realDonaldTrump, Created=Fri Dec 18 13:48:07 +0000 2020, Text='RT @BuckSexton: How much worse off would California be if it had ordered *none* of the covid lockdowns and just told people to be cautious…'),\n",
       " Status(ID=1339930030340771842, ScreenName=realDonaldTrump, Created=Fri Dec 18 13:46:28 +0000 2020, Text='RT @BuckSexton: The most dangerous opponents of free speech in America today are mainstream journalists and social media companies, and the…'),\n",
       " Status(ID=1339929663804747778, ScreenName=realDonaldTrump, Created=Fri Dec 18 13:45:01 +0000 2020, Text='Well, at least she was happy when I pardoned Scooter Libby. We got a GREAT new Senator from her state, not Liz! https://t.co/tT4gdn8f9V'),\n",
       " Status(ID=1339918328484294656, ScreenName=realDonaldTrump, Created=Fri Dec 18 12:59:58 +0000 2020, Text='RT @realDonaldTrump: I will Veto the Defense Bill, which will make China very unhappy. They love it. Must have Section 230 termination, pro…'),\n",
       " Status(ID=1339918065543352321, ScreenName=realDonaldTrump, Created=Fri Dec 18 12:58:55 +0000 2020, Text='The Russia Hoax becomes an even bigger lie! https://t.co/nbtfIGg2Ew'),\n",
       " Status(ID=1339914253596319744, ScreenName=realDonaldTrump, Created=Fri Dec 18 12:43:47 +0000 2020, Text='Europe and other parts of the World being hit hard by the China Virus - Germany, France, Spain and Italy, in partic… https://t.co/kYJNWl7lep'),\n",
       " Status(ID=1339912692736405507, ScreenName=realDonaldTrump, Created=Fri Dec 18 12:37:34 +0000 2020, Text='Moderna vaccine overwhelmingly approved. Distribution to start immediately.'),\n",
       " Status(ID=1339911935106682880, ScreenName=realDonaldTrump, Created=Fri Dec 18 12:34:34 +0000 2020, Text='RT @AmyKremer: I already liked @TTuberville, but he is about to become a hero.'),\n",
       " Status(ID=1339911209890570240, ScreenName=realDonaldTrump, Created=Fri Dec 18 12:31:41 +0000 2020, Text='RT @NickAdamsinUSA: GOD BLESS TOMMY TUBERVILLE!!'),\n",
       " Status(ID=1339911065203781632, ScreenName=realDonaldTrump, Created=Fri Dec 18 12:31:06 +0000 2020, Text='RT @AmyKremer: Looks like Team #Alabama may save the Republic.  https://t.co/nAdwUJfz0j'),\n",
       " Status(ID=1339910558288625664, ScreenName=realDonaldTrump, Created=Fri Dec 18 12:29:06 +0000 2020, Text='RT @jessiprincey: Thank you Senator-Elect @TTuberville!'),\n",
       " Status(ID=1339910340537139200, ScreenName=realDonaldTrump, Created=Fri Dec 18 12:28:14 +0000 2020, Text='RT @Raiklin: Hey Coach @ttuberville, #WeThePeople need you to get on the field and lead in the Senate, @Senatemajldr just walked off the fi…'),\n",
       " Status(ID=1339770665168228354, ScreenName=realDonaldTrump, Created=Fri Dec 18 03:13:12 +0000 2020, Text='I am very disappointed in the United States Supreme Court, and so is our great country!')]"
      ]
     },
     "execution_count": 65,
     "metadata": {},
     "output_type": "execute_result"
    }
   ],
   "source": [
    "# trump's egoID obtained using his twitter name and a web page which finds IDs\n",
    "trump = 25073877\n",
    "statuses = api.GetUserTimeline(trump)\n",
    "statuses"
   ]
  },
  {
   "cell_type": "code",
   "execution_count": null,
   "metadata": {},
   "outputs": [
    {
     "name": "stdout",
     "output_type": "stream",
     "text": [
      "1572863 [{'code': 34, 'message': 'Sorry, that page does not exist.'}]\n",
      "1777653 [{'code': 34, 'message': 'Sorry, that page does not exist.'}]\n",
      "1906676 [{'code': 34, 'message': 'Sorry, that page does not exist.'}]\n",
      "1576945 [{'code': 34, 'message': 'Sorry, that page does not exist.'}]\n",
      "1574897 [{'code': 34, 'message': 'Sorry, that page does not exist.'}]\n",
      "1824748 [{'code': 34, 'message': 'Sorry, that page does not exist.'}]\n",
      "1818602 [{'code': 34, 'message': 'Sorry, that page does not exist.'}]\n",
      "428008 [{'code': 34, 'message': 'Sorry, that page does not exist.'}]\n",
      "1583077 [{'code': 34, 'message': 'Sorry, that page does not exist.'}]\n",
      "1818592 [{'code': 34, 'message': 'Sorry, that page does not exist.'}]\n",
      "417759 [{'code': 34, 'message': 'Sorry, that page does not exist.'}]\n",
      "1970142 [{'code': 34, 'message': 'Sorry, that page does not exist.'}]\n",
      "2437085 [{'code': 34, 'message': 'Sorry, that page does not exist.'}]\n",
      "915418 [{'code': 34, 'message': 'Sorry, that page does not exist.'}]\n",
      "2422744 [{'code': 34, 'message': 'Sorry, that page does not exist.'}]\n",
      "1787861 [{'code': 34, 'message': 'Sorry, that page does not exist.'}]\n",
      "915411 [{'code': 34, 'message': 'Sorry, that page does not exist.'}]\n",
      "1820626 [{'code': 34, 'message': 'Sorry, that page does not exist.'}]\n",
      "1787855 [{'code': 34, 'message': 'Sorry, that page does not exist.'}]\n",
      "421836 [{'code': 34, 'message': 'Sorry, that page does not exist.'}]\n",
      "1775564 [{'code': 34, 'message': 'Sorry, that page does not exist.'}]\n",
      "442313 [{'code': 34, 'message': 'Sorry, that page does not exist.'}]\n",
      "1783752 [{'code': 34, 'message': 'Sorry, that page does not exist.'}]\n",
      "923592 [{'code': 34, 'message': 'Sorry, that page does not exist.'}]\n",
      "1771455 [{'code': 34, 'message': 'Sorry, that page does not exist.'}]\n",
      "1775549 [{'code': 34, 'message': 'Sorry, that page does not exist.'}]\n",
      "1783738 [{'code': 34, 'message': 'Sorry, that page does not exist.'}]\n",
      "1572792 [{'code': 34, 'message': 'Sorry, that page does not exist.'}]\n",
      "421814 [{'code': 34, 'message': 'Sorry, that page does not exist.'}]\n",
      "1824692 [{'code': 34, 'message': 'Sorry, that page does not exist.'}]\n",
      "1585075 [{'code': 34, 'message': 'Sorry, that page does not exist.'}]\n",
      "1791918 [{'code': 34, 'message': 'Sorry, that page does not exist.'}]\n",
      "241579 [{'code': 34, 'message': 'Sorry, that page does not exist.'}]\n",
      "1826730 [{'code': 34, 'message': 'Sorry, that page does not exist.'}]\n",
      "1576873 [{'code': 34, 'message': 'Sorry, that page does not exist.'}]\n",
      "2469800 [{'code': 34, 'message': 'Sorry, that page does not exist.'}]\n",
      "921511 [{'code': 34, 'message': 'Sorry, that page does not exist.'}]\n",
      "2422694 [{'code': 34, 'message': 'Sorry, that page does not exist.'}]\n",
      "2469796 [{'code': 34, 'message': 'Sorry, that page does not exist.'}]\n",
      "913316 [{'code': 34, 'message': 'Sorry, that page does not exist.'}]\n",
      "1781667 [{'code': 34, 'message': 'Sorry, that page does not exist.'}]\n",
      "1771425 [{'code': 34, 'message': 'Sorry, that page does not exist.'}]\n",
      "1824671 [{'code': 34, 'message': 'Sorry, that page does not exist.'}]\n",
      "1791901 [{'code': 34, 'message': 'Sorry, that page does not exist.'}]\n",
      "1824667 [{'code': 34, 'message': 'Sorry, that page does not exist.'}]\n",
      "2437016 [{'code': 34, 'message': 'Sorry, that page does not exist.'}]\n",
      "427926 [{'code': 34, 'message': 'Sorry, that page does not exist.'}]\n",
      "319381 [{'code': 34, 'message': 'Sorry, that page does not exist.'}]\n",
      "1787793 [{'code': 34, 'message': 'Sorry, that page does not exist.'}]\n",
      "1820559 [{'code': 34, 'message': 'Sorry, that page does not exist.'}]\n",
      "415629 [{'code': 34, 'message': 'Sorry, that page does not exist.'}]\n",
      "1789837 [{'code': 34, 'message': 'Sorry, that page does not exist.'}]\n",
      "1775500 [{'code': 34, 'message': 'Sorry, that page does not exist.'}]\n",
      "423817 [{'code': 34, 'message': 'Sorry, that page does not exist.'}]\n",
      "1771400 [{'code': 34, 'message': 'Sorry, that page does not exist.'}]\n",
      "421766 [{'code': 34, 'message': 'Sorry, that page does not exist.'}]\n",
      "1587076 [{'code': 34, 'message': 'Sorry, that page does not exist.'}]\n",
      "427903 [{'code': 34, 'message': 'Sorry, that page does not exist.'}]\n"
     ]
    },
    {
     "ename": "KeyboardInterrupt",
     "evalue": "",
     "output_type": "error",
     "traceback": [
      "\u001b[0;31m---------------------------------------------------------------------------\u001b[0m",
      "\u001b[0;31mKeyboardInterrupt\u001b[0m                         Traceback (most recent call last)",
      "\u001b[0;32m<ipython-input-66-8c8fe69ed796>\u001b[0m in \u001b[0;36m<module>\u001b[0;34m\u001b[0m\n\u001b[1;32m      3\u001b[0m \u001b[0;32mfor\u001b[0m \u001b[0maccount_id\u001b[0m \u001b[0;32min\u001b[0m \u001b[0mreversed\u001b[0m\u001b[0;34m(\u001b[0m\u001b[0mlist\u001b[0m\u001b[0;34m(\u001b[0m\u001b[0mall_ids\u001b[0m\u001b[0;34m)\u001b[0m\u001b[0;34m)\u001b[0m\u001b[0;34m:\u001b[0m\u001b[0;34m\u001b[0m\u001b[0;34m\u001b[0m\u001b[0m\n\u001b[1;32m      4\u001b[0m     \u001b[0;32mtry\u001b[0m\u001b[0;34m:\u001b[0m\u001b[0;34m\u001b[0m\u001b[0;34m\u001b[0m\u001b[0m\n\u001b[0;32m----> 5\u001b[0;31m         \u001b[0mcur_statuses\u001b[0m \u001b[0;34m=\u001b[0m \u001b[0mapi\u001b[0m\u001b[0;34m.\u001b[0m\u001b[0mGetUserTimeline\u001b[0m\u001b[0;34m(\u001b[0m\u001b[0maccount_id\u001b[0m\u001b[0;34m)\u001b[0m\u001b[0;34m\u001b[0m\u001b[0;34m\u001b[0m\u001b[0m\n\u001b[0m\u001b[1;32m      6\u001b[0m         \u001b[0mprint\u001b[0m\u001b[0;34m(\u001b[0m\u001b[0;34m\"SUCCESS\"\u001b[0m\u001b[0;34m)\u001b[0m\u001b[0;34m\u001b[0m\u001b[0;34m\u001b[0m\u001b[0m\n\u001b[1;32m      7\u001b[0m         \u001b[0;32mfor\u001b[0m \u001b[0melem\u001b[0m \u001b[0;32min\u001b[0m \u001b[0mcur_statuses\u001b[0m\u001b[0;34m:\u001b[0m\u001b[0;34m\u001b[0m\u001b[0;34m\u001b[0m\u001b[0m\n",
      "\u001b[0;32m~/opt/anaconda3/lib/python3.7/site-packages/twitter/api.py\u001b[0m in \u001b[0;36mGetUserTimeline\u001b[0;34m(self, user_id, screen_name, since_id, max_id, count, include_rts, trim_user, exclude_replies)\u001b[0m\n\u001b[1;32m    809\u001b[0m         \u001b[0mparameters\u001b[0m\u001b[0;34m[\u001b[0m\u001b[0;34m'exclude_replies'\u001b[0m\u001b[0;34m]\u001b[0m \u001b[0;34m=\u001b[0m \u001b[0menf_type\u001b[0m\u001b[0;34m(\u001b[0m\u001b[0;34m'exclude_replies'\u001b[0m\u001b[0;34m,\u001b[0m \u001b[0mbool\u001b[0m\u001b[0;34m,\u001b[0m \u001b[0mexclude_replies\u001b[0m\u001b[0;34m)\u001b[0m\u001b[0;34m\u001b[0m\u001b[0;34m\u001b[0m\u001b[0m\n\u001b[1;32m    810\u001b[0m \u001b[0;34m\u001b[0m\u001b[0m\n\u001b[0;32m--> 811\u001b[0;31m         \u001b[0mresp\u001b[0m \u001b[0;34m=\u001b[0m \u001b[0mself\u001b[0m\u001b[0;34m.\u001b[0m\u001b[0m_RequestUrl\u001b[0m\u001b[0;34m(\u001b[0m\u001b[0murl\u001b[0m\u001b[0;34m,\u001b[0m \u001b[0;34m'GET'\u001b[0m\u001b[0;34m,\u001b[0m \u001b[0mdata\u001b[0m\u001b[0;34m=\u001b[0m\u001b[0mparameters\u001b[0m\u001b[0;34m)\u001b[0m\u001b[0;34m\u001b[0m\u001b[0;34m\u001b[0m\u001b[0m\n\u001b[0m\u001b[1;32m    812\u001b[0m         \u001b[0mdata\u001b[0m \u001b[0;34m=\u001b[0m \u001b[0mself\u001b[0m\u001b[0;34m.\u001b[0m\u001b[0m_ParseAndCheckTwitter\u001b[0m\u001b[0;34m(\u001b[0m\u001b[0mresp\u001b[0m\u001b[0;34m.\u001b[0m\u001b[0mcontent\u001b[0m\u001b[0;34m.\u001b[0m\u001b[0mdecode\u001b[0m\u001b[0;34m(\u001b[0m\u001b[0;34m'utf-8'\u001b[0m\u001b[0;34m)\u001b[0m\u001b[0;34m)\u001b[0m\u001b[0;34m\u001b[0m\u001b[0;34m\u001b[0m\u001b[0m\n\u001b[1;32m    813\u001b[0m \u001b[0;34m\u001b[0m\u001b[0m\n",
      "\u001b[0;32m~/opt/anaconda3/lib/python3.7/site-packages/twitter/api.py\u001b[0m in \u001b[0;36m_RequestUrl\u001b[0;34m(self, url, verb, data, json, enforce_auth)\u001b[0m\n\u001b[1;32m   4990\u001b[0m             \u001b[0mdata\u001b[0m\u001b[0;34m[\u001b[0m\u001b[0;34m'tweet_mode'\u001b[0m\u001b[0;34m]\u001b[0m \u001b[0;34m=\u001b[0m \u001b[0mself\u001b[0m\u001b[0;34m.\u001b[0m\u001b[0mtweet_mode\u001b[0m\u001b[0;34m\u001b[0m\u001b[0;34m\u001b[0m\u001b[0m\n\u001b[1;32m   4991\u001b[0m             \u001b[0murl\u001b[0m \u001b[0;34m=\u001b[0m \u001b[0mself\u001b[0m\u001b[0;34m.\u001b[0m\u001b[0m_BuildUrl\u001b[0m\u001b[0;34m(\u001b[0m\u001b[0murl\u001b[0m\u001b[0;34m,\u001b[0m \u001b[0mextra_params\u001b[0m\u001b[0;34m=\u001b[0m\u001b[0mdata\u001b[0m\u001b[0;34m)\u001b[0m\u001b[0;34m\u001b[0m\u001b[0;34m\u001b[0m\u001b[0m\n\u001b[0;32m-> 4992\u001b[0;31m             \u001b[0mresp\u001b[0m \u001b[0;34m=\u001b[0m \u001b[0mself\u001b[0m\u001b[0;34m.\u001b[0m\u001b[0m_session\u001b[0m\u001b[0;34m.\u001b[0m\u001b[0mget\u001b[0m\u001b[0;34m(\u001b[0m\u001b[0murl\u001b[0m\u001b[0;34m,\u001b[0m \u001b[0mauth\u001b[0m\u001b[0;34m=\u001b[0m\u001b[0mself\u001b[0m\u001b[0;34m.\u001b[0m\u001b[0m__auth\u001b[0m\u001b[0;34m,\u001b[0m \u001b[0mtimeout\u001b[0m\u001b[0;34m=\u001b[0m\u001b[0mself\u001b[0m\u001b[0;34m.\u001b[0m\u001b[0m_timeout\u001b[0m\u001b[0;34m,\u001b[0m \u001b[0mproxies\u001b[0m\u001b[0;34m=\u001b[0m\u001b[0mself\u001b[0m\u001b[0;34m.\u001b[0m\u001b[0mproxies\u001b[0m\u001b[0;34m)\u001b[0m\u001b[0;34m\u001b[0m\u001b[0;34m\u001b[0m\u001b[0m\n\u001b[0m\u001b[1;32m   4993\u001b[0m \u001b[0;34m\u001b[0m\u001b[0m\n\u001b[1;32m   4994\u001b[0m         \u001b[0;32melse\u001b[0m\u001b[0;34m:\u001b[0m\u001b[0;34m\u001b[0m\u001b[0;34m\u001b[0m\u001b[0m\n",
      "\u001b[0;32m~/opt/anaconda3/lib/python3.7/site-packages/requests/sessions.py\u001b[0m in \u001b[0;36mget\u001b[0;34m(self, url, **kwargs)\u001b[0m\n\u001b[1;32m    541\u001b[0m \u001b[0;34m\u001b[0m\u001b[0m\n\u001b[1;32m    542\u001b[0m         \u001b[0mkwargs\u001b[0m\u001b[0;34m.\u001b[0m\u001b[0msetdefault\u001b[0m\u001b[0;34m(\u001b[0m\u001b[0;34m'allow_redirects'\u001b[0m\u001b[0;34m,\u001b[0m \u001b[0;32mTrue\u001b[0m\u001b[0;34m)\u001b[0m\u001b[0;34m\u001b[0m\u001b[0;34m\u001b[0m\u001b[0m\n\u001b[0;32m--> 543\u001b[0;31m         \u001b[0;32mreturn\u001b[0m \u001b[0mself\u001b[0m\u001b[0;34m.\u001b[0m\u001b[0mrequest\u001b[0m\u001b[0;34m(\u001b[0m\u001b[0;34m'GET'\u001b[0m\u001b[0;34m,\u001b[0m \u001b[0murl\u001b[0m\u001b[0;34m,\u001b[0m \u001b[0;34m**\u001b[0m\u001b[0mkwargs\u001b[0m\u001b[0;34m)\u001b[0m\u001b[0;34m\u001b[0m\u001b[0;34m\u001b[0m\u001b[0m\n\u001b[0m\u001b[1;32m    544\u001b[0m \u001b[0;34m\u001b[0m\u001b[0m\n\u001b[1;32m    545\u001b[0m     \u001b[0;32mdef\u001b[0m \u001b[0moptions\u001b[0m\u001b[0;34m(\u001b[0m\u001b[0mself\u001b[0m\u001b[0;34m,\u001b[0m \u001b[0murl\u001b[0m\u001b[0;34m,\u001b[0m \u001b[0;34m**\u001b[0m\u001b[0mkwargs\u001b[0m\u001b[0;34m)\u001b[0m\u001b[0;34m:\u001b[0m\u001b[0;34m\u001b[0m\u001b[0;34m\u001b[0m\u001b[0m\n",
      "\u001b[0;32m~/opt/anaconda3/lib/python3.7/site-packages/requests/sessions.py\u001b[0m in \u001b[0;36mrequest\u001b[0;34m(self, method, url, params, data, headers, cookies, files, auth, timeout, allow_redirects, proxies, hooks, stream, verify, cert, json)\u001b[0m\n\u001b[1;32m    528\u001b[0m         }\n\u001b[1;32m    529\u001b[0m         \u001b[0msend_kwargs\u001b[0m\u001b[0;34m.\u001b[0m\u001b[0mupdate\u001b[0m\u001b[0;34m(\u001b[0m\u001b[0msettings\u001b[0m\u001b[0;34m)\u001b[0m\u001b[0;34m\u001b[0m\u001b[0;34m\u001b[0m\u001b[0m\n\u001b[0;32m--> 530\u001b[0;31m         \u001b[0mresp\u001b[0m \u001b[0;34m=\u001b[0m \u001b[0mself\u001b[0m\u001b[0;34m.\u001b[0m\u001b[0msend\u001b[0m\u001b[0;34m(\u001b[0m\u001b[0mprep\u001b[0m\u001b[0;34m,\u001b[0m \u001b[0;34m**\u001b[0m\u001b[0msend_kwargs\u001b[0m\u001b[0;34m)\u001b[0m\u001b[0;34m\u001b[0m\u001b[0;34m\u001b[0m\u001b[0m\n\u001b[0m\u001b[1;32m    531\u001b[0m \u001b[0;34m\u001b[0m\u001b[0m\n\u001b[1;32m    532\u001b[0m         \u001b[0;32mreturn\u001b[0m \u001b[0mresp\u001b[0m\u001b[0;34m\u001b[0m\u001b[0;34m\u001b[0m\u001b[0m\n",
      "\u001b[0;32m~/opt/anaconda3/lib/python3.7/site-packages/requests/sessions.py\u001b[0m in \u001b[0;36msend\u001b[0;34m(self, request, **kwargs)\u001b[0m\n\u001b[1;32m    641\u001b[0m \u001b[0;34m\u001b[0m\u001b[0m\n\u001b[1;32m    642\u001b[0m         \u001b[0;31m# Send the request\u001b[0m\u001b[0;34m\u001b[0m\u001b[0;34m\u001b[0m\u001b[0;34m\u001b[0m\u001b[0m\n\u001b[0;32m--> 643\u001b[0;31m         \u001b[0mr\u001b[0m \u001b[0;34m=\u001b[0m \u001b[0madapter\u001b[0m\u001b[0;34m.\u001b[0m\u001b[0msend\u001b[0m\u001b[0;34m(\u001b[0m\u001b[0mrequest\u001b[0m\u001b[0;34m,\u001b[0m \u001b[0;34m**\u001b[0m\u001b[0mkwargs\u001b[0m\u001b[0;34m)\u001b[0m\u001b[0;34m\u001b[0m\u001b[0;34m\u001b[0m\u001b[0m\n\u001b[0m\u001b[1;32m    644\u001b[0m \u001b[0;34m\u001b[0m\u001b[0m\n\u001b[1;32m    645\u001b[0m         \u001b[0;31m# Total elapsed time of the request (approximately)\u001b[0m\u001b[0;34m\u001b[0m\u001b[0;34m\u001b[0m\u001b[0;34m\u001b[0m\u001b[0m\n",
      "\u001b[0;32m~/opt/anaconda3/lib/python3.7/site-packages/requests/adapters.py\u001b[0m in \u001b[0;36msend\u001b[0;34m(self, request, stream, timeout, verify, cert, proxies)\u001b[0m\n\u001b[1;32m    410\u001b[0m \u001b[0;34m\u001b[0m\u001b[0m\n\u001b[1;32m    411\u001b[0m         \u001b[0;32mtry\u001b[0m\u001b[0;34m:\u001b[0m\u001b[0;34m\u001b[0m\u001b[0;34m\u001b[0m\u001b[0m\n\u001b[0;32m--> 412\u001b[0;31m             \u001b[0mconn\u001b[0m \u001b[0;34m=\u001b[0m \u001b[0mself\u001b[0m\u001b[0;34m.\u001b[0m\u001b[0mget_connection\u001b[0m\u001b[0;34m(\u001b[0m\u001b[0mrequest\u001b[0m\u001b[0;34m.\u001b[0m\u001b[0murl\u001b[0m\u001b[0;34m,\u001b[0m \u001b[0mproxies\u001b[0m\u001b[0;34m)\u001b[0m\u001b[0;34m\u001b[0m\u001b[0;34m\u001b[0m\u001b[0m\n\u001b[0m\u001b[1;32m    413\u001b[0m         \u001b[0;32mexcept\u001b[0m \u001b[0mLocationValueError\u001b[0m \u001b[0;32mas\u001b[0m \u001b[0me\u001b[0m\u001b[0;34m:\u001b[0m\u001b[0;34m\u001b[0m\u001b[0;34m\u001b[0m\u001b[0m\n\u001b[1;32m    414\u001b[0m             \u001b[0;32mraise\u001b[0m \u001b[0mInvalidURL\u001b[0m\u001b[0;34m(\u001b[0m\u001b[0me\u001b[0m\u001b[0;34m,\u001b[0m \u001b[0mrequest\u001b[0m\u001b[0;34m=\u001b[0m\u001b[0mrequest\u001b[0m\u001b[0;34m)\u001b[0m\u001b[0;34m\u001b[0m\u001b[0;34m\u001b[0m\u001b[0m\n",
      "\u001b[0;32m~/opt/anaconda3/lib/python3.7/site-packages/requests/adapters.py\u001b[0m in \u001b[0;36mget_connection\u001b[0;34m(self, url, proxies)\u001b[0m\n\u001b[1;32m    299\u001b[0m         \u001b[0;34m:\u001b[0m\u001b[0mrtype\u001b[0m\u001b[0;34m:\u001b[0m \u001b[0murllib3\u001b[0m\u001b[0;34m.\u001b[0m\u001b[0mConnectionPool\u001b[0m\u001b[0;34m\u001b[0m\u001b[0;34m\u001b[0m\u001b[0m\n\u001b[1;32m    300\u001b[0m         \"\"\"\n\u001b[0;32m--> 301\u001b[0;31m         \u001b[0mproxy\u001b[0m \u001b[0;34m=\u001b[0m \u001b[0mselect_proxy\u001b[0m\u001b[0;34m(\u001b[0m\u001b[0murl\u001b[0m\u001b[0;34m,\u001b[0m \u001b[0mproxies\u001b[0m\u001b[0;34m)\u001b[0m\u001b[0;34m\u001b[0m\u001b[0;34m\u001b[0m\u001b[0m\n\u001b[0m\u001b[1;32m    302\u001b[0m \u001b[0;34m\u001b[0m\u001b[0m\n\u001b[1;32m    303\u001b[0m         \u001b[0;32mif\u001b[0m \u001b[0mproxy\u001b[0m\u001b[0;34m:\u001b[0m\u001b[0;34m\u001b[0m\u001b[0;34m\u001b[0m\u001b[0m\n",
      "\u001b[0;32m~/opt/anaconda3/lib/python3.7/site-packages/requests/utils.py\u001b[0m in \u001b[0;36mselect_proxy\u001b[0;34m(url, proxies)\u001b[0m\n\u001b[1;32m    777\u001b[0m     \"\"\"\n\u001b[1;32m    778\u001b[0m     \u001b[0mproxies\u001b[0m \u001b[0;34m=\u001b[0m \u001b[0mproxies\u001b[0m \u001b[0;32mor\u001b[0m \u001b[0;34m{\u001b[0m\u001b[0;34m}\u001b[0m\u001b[0;34m\u001b[0m\u001b[0;34m\u001b[0m\u001b[0m\n\u001b[0;32m--> 779\u001b[0;31m     \u001b[0murlparts\u001b[0m \u001b[0;34m=\u001b[0m \u001b[0murlparse\u001b[0m\u001b[0;34m(\u001b[0m\u001b[0murl\u001b[0m\u001b[0;34m)\u001b[0m\u001b[0;34m\u001b[0m\u001b[0;34m\u001b[0m\u001b[0m\n\u001b[0m\u001b[1;32m    780\u001b[0m     \u001b[0;32mif\u001b[0m \u001b[0murlparts\u001b[0m\u001b[0;34m.\u001b[0m\u001b[0mhostname\u001b[0m \u001b[0;32mis\u001b[0m \u001b[0;32mNone\u001b[0m\u001b[0;34m:\u001b[0m\u001b[0;34m\u001b[0m\u001b[0;34m\u001b[0m\u001b[0m\n\u001b[1;32m    781\u001b[0m         \u001b[0;32mreturn\u001b[0m \u001b[0mproxies\u001b[0m\u001b[0;34m.\u001b[0m\u001b[0mget\u001b[0m\u001b[0;34m(\u001b[0m\u001b[0murlparts\u001b[0m\u001b[0;34m.\u001b[0m\u001b[0mscheme\u001b[0m\u001b[0;34m,\u001b[0m \u001b[0mproxies\u001b[0m\u001b[0;34m.\u001b[0m\u001b[0mget\u001b[0m\u001b[0;34m(\u001b[0m\u001b[0;34m'all'\u001b[0m\u001b[0;34m)\u001b[0m\u001b[0;34m)\u001b[0m\u001b[0;34m\u001b[0m\u001b[0;34m\u001b[0m\u001b[0m\n",
      "\u001b[0;32m~/opt/anaconda3/lib/python3.7/urllib/parse.py\u001b[0m in \u001b[0;36murlparse\u001b[0;34m(url, scheme, allow_fragments)\u001b[0m\n\u001b[1;32m    365\u001b[0m     \u001b[0mNote\u001b[0m \u001b[0mthat\u001b[0m \u001b[0mwe\u001b[0m \u001b[0mdon\u001b[0m\u001b[0;31m'\u001b[0m\u001b[0mt\u001b[0m \u001b[0;32mbreak\u001b[0m \u001b[0mthe\u001b[0m \u001b[0mcomponents\u001b[0m \u001b[0mup\u001b[0m \u001b[0;32min\u001b[0m \u001b[0msmaller\u001b[0m \u001b[0mbits\u001b[0m\u001b[0;34m\u001b[0m\u001b[0;34m\u001b[0m\u001b[0m\n\u001b[1;32m    366\u001b[0m     (e.g. netloc is a single string) and we don't expand % escapes.\"\"\"\n\u001b[0;32m--> 367\u001b[0;31m     \u001b[0murl\u001b[0m\u001b[0;34m,\u001b[0m \u001b[0mscheme\u001b[0m\u001b[0;34m,\u001b[0m \u001b[0m_coerce_result\u001b[0m \u001b[0;34m=\u001b[0m \u001b[0m_coerce_args\u001b[0m\u001b[0;34m(\u001b[0m\u001b[0murl\u001b[0m\u001b[0;34m,\u001b[0m \u001b[0mscheme\u001b[0m\u001b[0;34m)\u001b[0m\u001b[0;34m\u001b[0m\u001b[0;34m\u001b[0m\u001b[0m\n\u001b[0m\u001b[1;32m    368\u001b[0m     \u001b[0msplitresult\u001b[0m \u001b[0;34m=\u001b[0m \u001b[0murlsplit\u001b[0m\u001b[0;34m(\u001b[0m\u001b[0murl\u001b[0m\u001b[0;34m,\u001b[0m \u001b[0mscheme\u001b[0m\u001b[0;34m,\u001b[0m \u001b[0mallow_fragments\u001b[0m\u001b[0;34m)\u001b[0m\u001b[0;34m\u001b[0m\u001b[0;34m\u001b[0m\u001b[0m\n\u001b[1;32m    369\u001b[0m     \u001b[0mscheme\u001b[0m\u001b[0;34m,\u001b[0m \u001b[0mnetloc\u001b[0m\u001b[0;34m,\u001b[0m \u001b[0murl\u001b[0m\u001b[0;34m,\u001b[0m \u001b[0mquery\u001b[0m\u001b[0;34m,\u001b[0m \u001b[0mfragment\u001b[0m \u001b[0;34m=\u001b[0m \u001b[0msplitresult\u001b[0m\u001b[0;34m\u001b[0m\u001b[0;34m\u001b[0m\u001b[0m\n",
      "\u001b[0;32m~/opt/anaconda3/lib/python3.7/urllib/parse.py\u001b[0m in \u001b[0;36m_coerce_args\u001b[0;34m(*args)\u001b[0m\n\u001b[1;32m    113\u001b[0m     \u001b[0;31m#   - noop for str inputs\u001b[0m\u001b[0;34m\u001b[0m\u001b[0;34m\u001b[0m\u001b[0;34m\u001b[0m\u001b[0m\n\u001b[1;32m    114\u001b[0m     \u001b[0;31m#   - encoding function otherwise\u001b[0m\u001b[0;34m\u001b[0m\u001b[0;34m\u001b[0m\u001b[0;34m\u001b[0m\u001b[0m\n\u001b[0;32m--> 115\u001b[0;31m     \u001b[0mstr_input\u001b[0m \u001b[0;34m=\u001b[0m \u001b[0misinstance\u001b[0m\u001b[0;34m(\u001b[0m\u001b[0margs\u001b[0m\u001b[0;34m[\u001b[0m\u001b[0;36m0\u001b[0m\u001b[0;34m]\u001b[0m\u001b[0;34m,\u001b[0m \u001b[0mstr\u001b[0m\u001b[0;34m)\u001b[0m\u001b[0;34m\u001b[0m\u001b[0;34m\u001b[0m\u001b[0m\n\u001b[0m\u001b[1;32m    116\u001b[0m     \u001b[0;32mfor\u001b[0m \u001b[0marg\u001b[0m \u001b[0;32min\u001b[0m \u001b[0margs\u001b[0m\u001b[0;34m[\u001b[0m\u001b[0;36m1\u001b[0m\u001b[0;34m:\u001b[0m\u001b[0;34m]\u001b[0m\u001b[0;34m:\u001b[0m\u001b[0;34m\u001b[0m\u001b[0;34m\u001b[0m\u001b[0m\n\u001b[1;32m    117\u001b[0m         \u001b[0;31m# We special-case the empty string to support the\u001b[0m\u001b[0;34m\u001b[0m\u001b[0;34m\u001b[0m\u001b[0;34m\u001b[0m\u001b[0m\n",
      "\u001b[0;31mKeyboardInterrupt\u001b[0m: "
     ]
    }
   ],
   "source": [
    "statuses = []\n",
    "\n",
    "for account_id in reversed(list(all_ids)):\n",
    "    try:\n",
    "        cur_statuses = api.GetUserTimeline(account_id)\n",
    "        print(\"SUCCESS\")\n",
    "        for elem in cur_statuses:\n",
    "            statuses.append(elem)\n",
    "    except twitter.TwitterError as e:\n",
    "        print(account_id, e)\n",
    "        pass"
   ]
  },
  {
   "cell_type": "code",
   "execution_count": null,
   "metadata": {},
   "outputs": [],
   "source": []
  }
 ],
 "metadata": {
  "kernelspec": {
   "display_name": "Python 3",
   "language": "python",
   "name": "python3"
  },
  "language_info": {
   "codemirror_mode": {
    "name": "ipython",
    "version": 3
   },
   "file_extension": ".py",
   "mimetype": "text/x-python",
   "name": "python",
   "nbconvert_exporter": "python",
   "pygments_lexer": "ipython3",
   "version": "3.7.9"
  }
 },
 "nbformat": 4,
 "nbformat_minor": 4
}
